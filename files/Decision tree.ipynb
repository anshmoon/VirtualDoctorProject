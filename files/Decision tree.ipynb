{
 "cells": [
  {
   "cell_type": "code",
   "execution_count": 1,
   "metadata": {},
   "outputs": [],
   "source": [
    "import pandas as pd\n",
    "import numpy as np"
   ]
  },
  {
   "cell_type": "code",
   "execution_count": 2,
   "metadata": {},
   "outputs": [],
   "source": [
    "X_train=pd.read_csv(\"Xtrain\")"
   ]
  },
  {
   "cell_type": "code",
   "execution_count": 3,
   "metadata": {},
   "outputs": [
    {
     "data": {
      "text/html": [
       "<div>\n",
       "<style scoped>\n",
       "    .dataframe tbody tr th:only-of-type {\n",
       "        vertical-align: middle;\n",
       "    }\n",
       "\n",
       "    .dataframe tbody tr th {\n",
       "        vertical-align: top;\n",
       "    }\n",
       "\n",
       "    .dataframe thead th {\n",
       "        text-align: right;\n",
       "    }\n",
       "</style>\n",
       "<table border=\"1\" class=\"dataframe\">\n",
       "  <thead>\n",
       "    <tr style=\"text-align: right;\">\n",
       "      <th></th>\n",
       "      <th>age</th>\n",
       "      <th>sex</th>\n",
       "      <th>cp</th>\n",
       "      <th>trestbps</th>\n",
       "      <th>chol</th>\n",
       "      <th>fbs</th>\n",
       "      <th>restecg</th>\n",
       "      <th>thalach</th>\n",
       "      <th>exang</th>\n",
       "      <th>oldpeak</th>\n",
       "      <th>slope</th>\n",
       "      <th>ca</th>\n",
       "      <th>thal</th>\n",
       "    </tr>\n",
       "  </thead>\n",
       "  <tbody>\n",
       "    <tr>\n",
       "      <th>0</th>\n",
       "      <td>43</td>\n",
       "      <td>0</td>\n",
       "      <td>2</td>\n",
       "      <td>122</td>\n",
       "      <td>213</td>\n",
       "      <td>0</td>\n",
       "      <td>1</td>\n",
       "      <td>165</td>\n",
       "      <td>0</td>\n",
       "      <td>0.2</td>\n",
       "      <td>1</td>\n",
       "      <td>0</td>\n",
       "      <td>2</td>\n",
       "    </tr>\n",
       "    <tr>\n",
       "      <th>1</th>\n",
       "      <td>66</td>\n",
       "      <td>0</td>\n",
       "      <td>2</td>\n",
       "      <td>146</td>\n",
       "      <td>278</td>\n",
       "      <td>0</td>\n",
       "      <td>0</td>\n",
       "      <td>152</td>\n",
       "      <td>0</td>\n",
       "      <td>0.0</td>\n",
       "      <td>1</td>\n",
       "      <td>1</td>\n",
       "      <td>2</td>\n",
       "    </tr>\n",
       "    <tr>\n",
       "      <th>2</th>\n",
       "      <td>58</td>\n",
       "      <td>1</td>\n",
       "      <td>2</td>\n",
       "      <td>140</td>\n",
       "      <td>211</td>\n",
       "      <td>1</td>\n",
       "      <td>0</td>\n",
       "      <td>165</td>\n",
       "      <td>0</td>\n",
       "      <td>0.0</td>\n",
       "      <td>2</td>\n",
       "      <td>0</td>\n",
       "      <td>2</td>\n",
       "    </tr>\n",
       "    <tr>\n",
       "      <th>3</th>\n",
       "      <td>63</td>\n",
       "      <td>0</td>\n",
       "      <td>0</td>\n",
       "      <td>124</td>\n",
       "      <td>197</td>\n",
       "      <td>0</td>\n",
       "      <td>1</td>\n",
       "      <td>136</td>\n",
       "      <td>1</td>\n",
       "      <td>0.0</td>\n",
       "      <td>1</td>\n",
       "      <td>0</td>\n",
       "      <td>2</td>\n",
       "    </tr>\n",
       "    <tr>\n",
       "      <th>4</th>\n",
       "      <td>57</td>\n",
       "      <td>1</td>\n",
       "      <td>1</td>\n",
       "      <td>154</td>\n",
       "      <td>232</td>\n",
       "      <td>0</td>\n",
       "      <td>0</td>\n",
       "      <td>164</td>\n",
       "      <td>0</td>\n",
       "      <td>0.0</td>\n",
       "      <td>2</td>\n",
       "      <td>1</td>\n",
       "      <td>2</td>\n",
       "    </tr>\n",
       "  </tbody>\n",
       "</table>\n",
       "</div>"
      ],
      "text/plain": [
       "   age  sex  cp  trestbps  chol  fbs  restecg  thalach  exang  oldpeak  slope  \\\n",
       "0   43    0   2       122   213    0        1      165      0      0.2      1   \n",
       "1   66    0   2       146   278    0        0      152      0      0.0      1   \n",
       "2   58    1   2       140   211    1        0      165      0      0.0      2   \n",
       "3   63    0   0       124   197    0        1      136      1      0.0      1   \n",
       "4   57    1   1       154   232    0        0      164      0      0.0      2   \n",
       "\n",
       "   ca  thal  \n",
       "0   0     2  \n",
       "1   1     2  \n",
       "2   0     2  \n",
       "3   0     2  \n",
       "4   1     2  "
      ]
     },
     "execution_count": 3,
     "metadata": {},
     "output_type": "execute_result"
    }
   ],
   "source": [
    "X_train.head()"
   ]
  },
  {
   "cell_type": "code",
   "execution_count": 4,
   "metadata": {},
   "outputs": [],
   "source": [
    "X_test=pd.read_csv(\"Xtest\")"
   ]
  },
  {
   "cell_type": "code",
   "execution_count": 5,
   "metadata": {},
   "outputs": [
    {
     "data": {
      "text/html": [
       "<div>\n",
       "<style scoped>\n",
       "    .dataframe tbody tr th:only-of-type {\n",
       "        vertical-align: middle;\n",
       "    }\n",
       "\n",
       "    .dataframe tbody tr th {\n",
       "        vertical-align: top;\n",
       "    }\n",
       "\n",
       "    .dataframe thead th {\n",
       "        text-align: right;\n",
       "    }\n",
       "</style>\n",
       "<table border=\"1\" class=\"dataframe\">\n",
       "  <thead>\n",
       "    <tr style=\"text-align: right;\">\n",
       "      <th></th>\n",
       "      <th>age</th>\n",
       "      <th>sex</th>\n",
       "      <th>cp</th>\n",
       "      <th>trestbps</th>\n",
       "      <th>chol</th>\n",
       "      <th>fbs</th>\n",
       "      <th>restecg</th>\n",
       "      <th>thalach</th>\n",
       "      <th>exang</th>\n",
       "      <th>oldpeak</th>\n",
       "      <th>slope</th>\n",
       "      <th>ca</th>\n",
       "      <th>thal</th>\n",
       "    </tr>\n",
       "  </thead>\n",
       "  <tbody>\n",
       "    <tr>\n",
       "      <th>0</th>\n",
       "      <td>70</td>\n",
       "      <td>1</td>\n",
       "      <td>0</td>\n",
       "      <td>145</td>\n",
       "      <td>174</td>\n",
       "      <td>0</td>\n",
       "      <td>1</td>\n",
       "      <td>125</td>\n",
       "      <td>1</td>\n",
       "      <td>2.6</td>\n",
       "      <td>0</td>\n",
       "      <td>0</td>\n",
       "      <td>3</td>\n",
       "    </tr>\n",
       "    <tr>\n",
       "      <th>1</th>\n",
       "      <td>64</td>\n",
       "      <td>1</td>\n",
       "      <td>3</td>\n",
       "      <td>170</td>\n",
       "      <td>227</td>\n",
       "      <td>0</td>\n",
       "      <td>0</td>\n",
       "      <td>155</td>\n",
       "      <td>0</td>\n",
       "      <td>0.6</td>\n",
       "      <td>1</td>\n",
       "      <td>0</td>\n",
       "      <td>3</td>\n",
       "    </tr>\n",
       "    <tr>\n",
       "      <th>2</th>\n",
       "      <td>59</td>\n",
       "      <td>1</td>\n",
       "      <td>3</td>\n",
       "      <td>170</td>\n",
       "      <td>288</td>\n",
       "      <td>0</td>\n",
       "      <td>0</td>\n",
       "      <td>159</td>\n",
       "      <td>0</td>\n",
       "      <td>0.2</td>\n",
       "      <td>1</td>\n",
       "      <td>0</td>\n",
       "      <td>3</td>\n",
       "    </tr>\n",
       "    <tr>\n",
       "      <th>3</th>\n",
       "      <td>60</td>\n",
       "      <td>1</td>\n",
       "      <td>0</td>\n",
       "      <td>125</td>\n",
       "      <td>258</td>\n",
       "      <td>0</td>\n",
       "      <td>0</td>\n",
       "      <td>141</td>\n",
       "      <td>1</td>\n",
       "      <td>2.8</td>\n",
       "      <td>1</td>\n",
       "      <td>1</td>\n",
       "      <td>3</td>\n",
       "    </tr>\n",
       "    <tr>\n",
       "      <th>4</th>\n",
       "      <td>62</td>\n",
       "      <td>1</td>\n",
       "      <td>2</td>\n",
       "      <td>130</td>\n",
       "      <td>231</td>\n",
       "      <td>0</td>\n",
       "      <td>1</td>\n",
       "      <td>146</td>\n",
       "      <td>0</td>\n",
       "      <td>1.8</td>\n",
       "      <td>1</td>\n",
       "      <td>3</td>\n",
       "      <td>3</td>\n",
       "    </tr>\n",
       "  </tbody>\n",
       "</table>\n",
       "</div>"
      ],
      "text/plain": [
       "   age  sex  cp  trestbps  chol  fbs  restecg  thalach  exang  oldpeak  slope  \\\n",
       "0   70    1   0       145   174    0        1      125      1      2.6      0   \n",
       "1   64    1   3       170   227    0        0      155      0      0.6      1   \n",
       "2   59    1   3       170   288    0        0      159      0      0.2      1   \n",
       "3   60    1   0       125   258    0        0      141      1      2.8      1   \n",
       "4   62    1   2       130   231    0        1      146      0      1.8      1   \n",
       "\n",
       "   ca  thal  \n",
       "0   0     3  \n",
       "1   0     3  \n",
       "2   0     3  \n",
       "3   1     3  \n",
       "4   3     3  "
      ]
     },
     "execution_count": 5,
     "metadata": {},
     "output_type": "execute_result"
    }
   ],
   "source": [
    "X_test.head()"
   ]
  },
  {
   "cell_type": "code",
   "execution_count": 6,
   "metadata": {},
   "outputs": [],
   "source": [
    "y_train=pd.read_csv(\"Ytrain\")"
   ]
  },
  {
   "cell_type": "code",
   "execution_count": 7,
   "metadata": {},
   "outputs": [
    {
     "data": {
      "text/html": [
       "<div>\n",
       "<style scoped>\n",
       "    .dataframe tbody tr th:only-of-type {\n",
       "        vertical-align: middle;\n",
       "    }\n",
       "\n",
       "    .dataframe tbody tr th {\n",
       "        vertical-align: top;\n",
       "    }\n",
       "\n",
       "    .dataframe thead th {\n",
       "        text-align: right;\n",
       "    }\n",
       "</style>\n",
       "<table border=\"1\" class=\"dataframe\">\n",
       "  <thead>\n",
       "    <tr style=\"text-align: right;\">\n",
       "      <th></th>\n",
       "      <th>target</th>\n",
       "    </tr>\n",
       "  </thead>\n",
       "  <tbody>\n",
       "    <tr>\n",
       "      <th>0</th>\n",
       "      <td>1</td>\n",
       "    </tr>\n",
       "    <tr>\n",
       "      <th>1</th>\n",
       "      <td>1</td>\n",
       "    </tr>\n",
       "    <tr>\n",
       "      <th>2</th>\n",
       "      <td>1</td>\n",
       "    </tr>\n",
       "    <tr>\n",
       "      <th>3</th>\n",
       "      <td>0</td>\n",
       "    </tr>\n",
       "    <tr>\n",
       "      <th>4</th>\n",
       "      <td>0</td>\n",
       "    </tr>\n",
       "  </tbody>\n",
       "</table>\n",
       "</div>"
      ],
      "text/plain": [
       "   target\n",
       "0       1\n",
       "1       1\n",
       "2       1\n",
       "3       0\n",
       "4       0"
      ]
     },
     "execution_count": 7,
     "metadata": {},
     "output_type": "execute_result"
    }
   ],
   "source": [
    "y_train.head()"
   ]
  },
  {
   "cell_type": "code",
   "execution_count": 8,
   "metadata": {},
   "outputs": [],
   "source": [
    "y_test=pd.read_csv(\"Ytest\")"
   ]
  },
  {
   "cell_type": "code",
   "execution_count": 9,
   "metadata": {},
   "outputs": [
    {
     "data": {
      "text/html": [
       "<div>\n",
       "<style scoped>\n",
       "    .dataframe tbody tr th:only-of-type {\n",
       "        vertical-align: middle;\n",
       "    }\n",
       "\n",
       "    .dataframe tbody tr th {\n",
       "        vertical-align: top;\n",
       "    }\n",
       "\n",
       "    .dataframe thead th {\n",
       "        text-align: right;\n",
       "    }\n",
       "</style>\n",
       "<table border=\"1\" class=\"dataframe\">\n",
       "  <thead>\n",
       "    <tr style=\"text-align: right;\">\n",
       "      <th></th>\n",
       "      <th>target</th>\n",
       "    </tr>\n",
       "  </thead>\n",
       "  <tbody>\n",
       "    <tr>\n",
       "      <th>0</th>\n",
       "      <td>0</td>\n",
       "    </tr>\n",
       "    <tr>\n",
       "      <th>1</th>\n",
       "      <td>1</td>\n",
       "    </tr>\n",
       "    <tr>\n",
       "      <th>2</th>\n",
       "      <td>0</td>\n",
       "    </tr>\n",
       "    <tr>\n",
       "      <th>3</th>\n",
       "      <td>0</td>\n",
       "    </tr>\n",
       "    <tr>\n",
       "      <th>4</th>\n",
       "      <td>1</td>\n",
       "    </tr>\n",
       "  </tbody>\n",
       "</table>\n",
       "</div>"
      ],
      "text/plain": [
       "   target\n",
       "0       0\n",
       "1       1\n",
       "2       0\n",
       "3       0\n",
       "4       1"
      ]
     },
     "execution_count": 9,
     "metadata": {},
     "output_type": "execute_result"
    }
   ],
   "source": [
    "y_test.head()"
   ]
  },
  {
   "cell_type": "code",
   "execution_count": 10,
   "metadata": {},
   "outputs": [],
   "source": [
    "y_train = y_train.squeeze()\n",
    "y_test=y_test.squeeze()"
   ]
  },
  {
   "cell_type": "code",
   "execution_count": 12,
   "metadata": {},
   "outputs": [
    {
     "data": {
      "text/plain": [
       "0    0\n",
       "1    1\n",
       "2    0\n",
       "3    0\n",
       "4    1\n",
       "Name: target, dtype: int64"
      ]
     },
     "execution_count": 12,
     "metadata": {},
     "output_type": "execute_result"
    }
   ],
   "source": [
    "y_test.head()"
   ]
  },
  {
   "cell_type": "markdown",
   "metadata": {},
   "source": [
    "### Basic decision tree model"
   ]
  },
  {
   "cell_type": "code",
   "execution_count": 50,
   "metadata": {},
   "outputs": [],
   "source": [
    "from sklearn.tree import DecisionTreeClassifier\n",
    "from sklearn.model_selection import GridSearchCV, train_test_split\n",
    "from sklearn.metrics import classification_report, accuracy_score\n"
   ]
  },
  {
   "cell_type": "code",
   "execution_count": 51,
   "metadata": {},
   "outputs": [
    {
     "data": {
      "text/plain": [
       "DecisionTreeClassifier()"
      ]
     },
     "execution_count": 51,
     "metadata": {},
     "output_type": "execute_result"
    }
   ],
   "source": [
    "basic_model=DecisionTreeClassifier()\n",
    "basic_model.fit(X_train,y_train)"
   ]
  },
  {
   "cell_type": "code",
   "execution_count": 55,
   "metadata": {},
   "outputs": [
    {
     "name": "stdout",
     "output_type": "stream",
     "text": [
      "80.33\n"
     ]
    }
   ],
   "source": [
    "basic_model_pred=basic_model.predict(X_test)\n",
    "score_dt = round(accuracy_score(basic_model_pred,y_test)*100,2)\n",
    "print(score_dt)"
   ]
  },
  {
   "cell_type": "code",
   "execution_count": 56,
   "metadata": {},
   "outputs": [
    {
     "name": "stdout",
     "output_type": "stream",
     "text": [
      "              precision    recall  f1-score   support\n",
      "\n",
      "           0       0.76      0.81      0.79        27\n",
      "           1       0.84      0.79      0.82        34\n",
      "\n",
      "    accuracy                           0.80        61\n",
      "   macro avg       0.80      0.80      0.80        61\n",
      "weighted avg       0.81      0.80      0.80        61\n",
      "\n"
     ]
    }
   ],
   "source": [
    "print(classification_report(y_test,basic_model_pred))"
   ]
  },
  {
   "cell_type": "markdown",
   "metadata": {},
   "source": [
    "### Pruned Decision Tree"
   ]
  },
  {
   "cell_type": "code",
   "execution_count": 45,
   "metadata": {},
   "outputs": [],
   "source": [
    "max_accuracy = 0\n",
    "\n",
    "\n",
    "for x in range(200):\n",
    "    dt = DecisionTreeClassifier(random_state=x)\n",
    "    dt.fit(X_train,y_train)\n",
    "    Y_pred_dt = dt.predict(X_test)\n",
    "    current_accuracy = round(accuracy_score(Y_pred_dt,y_test)*100,2)\n",
    "    if(current_accuracy>max_accuracy):\n",
    "        max_accuracy = current_accuracy\n",
    "        best_x = x\n",
    "        \n",
    "#print(max_accuracy)\n",
    "#print(best_x)\n",
    "\n",
    "\n",
    "dt = DecisionTreeClassifier(random_state=best_x)\n",
    "dt.fit(X_train,y_train)\n",
    "Y_pred_dt = dt.predict(X_test)"
   ]
  },
  {
   "cell_type": "code",
   "execution_count": 46,
   "metadata": {},
   "outputs": [
    {
     "name": "stdout",
     "output_type": "stream",
     "text": [
      "(61,)\n"
     ]
    }
   ],
   "source": [
    "print(Y_pred_dt.shape)"
   ]
  },
  {
   "cell_type": "code",
   "execution_count": 48,
   "metadata": {},
   "outputs": [],
   "source": [
    "score_dt = round(accuracy_score(Y_pred_dt,y_test)*100,2)"
   ]
  },
  {
   "cell_type": "code",
   "execution_count": 49,
   "metadata": {},
   "outputs": [
    {
     "name": "stdout",
     "output_type": "stream",
     "text": [
      "The accuracy score achieved using Decision Tree is: 81.97 %\n"
     ]
    }
   ],
   "source": [
    "print(\"The accuracy score achieved using Decision Tree is: \"+str(score_dt)+\" %\")"
   ]
  },
  {
   "cell_type": "markdown",
   "metadata": {},
   "source": [
    "### Hyperparameter tuning"
   ]
  },
  {
   "cell_type": "code",
   "execution_count": 33,
   "metadata": {},
   "outputs": [],
   "source": [
    "# we are going to tune criterion, depth, min_samples_split, min_samples_leaf\n",
    "criterion=['gini', 'entropy']\n",
    "max_depth=[1,6,8,11]\n",
    "min_samples_split=[1,9,11,12]\n",
    "min_samples_leaf=[1,3,7,9]\n",
    "param_grid={'max_depth':max_depth,\n",
    "            'min_samples_split':min_samples_split,\n",
    "           'min_samples_leaf':min_samples_leaf,\n",
    "           'criterion':criterion}"
   ]
  },
  {
   "cell_type": "code",
   "execution_count": 34,
   "metadata": {},
   "outputs": [],
   "source": [
    "param=dict(criterion='criterion',max_depth='max_depth', min_samples_split='min_samples_split',min_samples_leaf='min_samples_leaf')"
   ]
  },
  {
   "cell_type": "code",
   "execution_count": 35,
   "metadata": {},
   "outputs": [
    {
     "name": "stdout",
     "output_type": "stream",
     "text": [
      "Fitting 3 folds for each of 128 candidates, totalling 384 fits\n",
      "[Parallel(n_jobs=-1)]: Using backend LokyBackend with 8 concurrent workers.\n",
      "[Parallel(n_jobs=-1)]: Done   1 tasks      | elapsed:    4.2s\n",
      "[Parallel(n_jobs=-1)]: Done   2 tasks      | elapsed:    4.2s\n",
      "[Parallel(n_jobs=-1)]: Done   3 tasks      | elapsed:    4.2s\n",
      "[Parallel(n_jobs=-1)]: Done   4 tasks      | elapsed:    4.3s\n",
      "[Parallel(n_jobs=-1)]: Done   5 tasks      | elapsed:    4.3s\n",
      "[Parallel(n_jobs=-1)]: Done   6 tasks      | elapsed:    4.3s\n",
      "[Parallel(n_jobs=-1)]: Done   7 tasks      | elapsed:    4.3s\n",
      "[Parallel(n_jobs=-1)]: Done   8 tasks      | elapsed:    4.3s\n",
      "[Parallel(n_jobs=-1)]: Done   9 tasks      | elapsed:    4.3s\n",
      "[Parallel(n_jobs=-1)]: Done  10 tasks      | elapsed:    4.4s\n",
      "[Parallel(n_jobs=-1)]: Done  11 tasks      | elapsed:    4.4s\n",
      "[Parallel(n_jobs=-1)]: Done  12 tasks      | elapsed:    4.4s\n",
      "[Parallel(n_jobs=-1)]: Done  13 tasks      | elapsed:    4.4s\n",
      "[Parallel(n_jobs=-1)]: Done  14 tasks      | elapsed:    4.4s\n",
      "[Parallel(n_jobs=-1)]: Done  15 tasks      | elapsed:    4.4s\n",
      "[Parallel(n_jobs=-1)]: Done  16 tasks      | elapsed:    4.4s\n",
      "[Parallel(n_jobs=-1)]: Done  17 tasks      | elapsed:    4.4s\n",
      "[Parallel(n_jobs=-1)]: Done  18 tasks      | elapsed:    4.4s\n",
      "[Parallel(n_jobs=-1)]: Done  19 tasks      | elapsed:    4.4s\n",
      "[Parallel(n_jobs=-1)]: Done  20 tasks      | elapsed:    4.4s\n",
      "[Parallel(n_jobs=-1)]: Done  21 tasks      | elapsed:    4.4s\n",
      "[Parallel(n_jobs=-1)]: Done  22 tasks      | elapsed:    4.4s\n",
      "[Parallel(n_jobs=-1)]: Done  23 tasks      | elapsed:    4.4s\n",
      "[Parallel(n_jobs=-1)]: Done  24 tasks      | elapsed:    4.4s\n",
      "[Parallel(n_jobs=-1)]: Done  25 tasks      | elapsed:    4.4s\n",
      "[Parallel(n_jobs=-1)]: Done  26 tasks      | elapsed:    4.4s\n",
      "[Parallel(n_jobs=-1)]: Done  27 tasks      | elapsed:    4.5s\n",
      "[Parallel(n_jobs=-1)]: Done  28 tasks      | elapsed:    4.5s\n",
      "[Parallel(n_jobs=-1)]: Done  29 tasks      | elapsed:    4.5s\n",
      "[Parallel(n_jobs=-1)]: Done  30 tasks      | elapsed:    4.5s\n",
      "[Parallel(n_jobs=-1)]: Done  31 tasks      | elapsed:    4.5s\n",
      "[Parallel(n_jobs=-1)]: Batch computation too fast (0.1882s.) Setting batch_size=2.\n",
      "[Parallel(n_jobs=-1)]: Done  32 tasks      | elapsed:    4.5s\n",
      "[Parallel(n_jobs=-1)]: Done  33 tasks      | elapsed:    4.5s\n",
      "[Parallel(n_jobs=-1)]: Done  34 tasks      | elapsed:    4.5s\n",
      "[Parallel(n_jobs=-1)]: Done  35 tasks      | elapsed:    4.5s\n",
      "[Parallel(n_jobs=-1)]: Done  36 tasks      | elapsed:    4.5s\n",
      "[Parallel(n_jobs=-1)]: Done  37 tasks      | elapsed:    4.5s\n",
      "[Parallel(n_jobs=-1)]: Done  38 tasks      | elapsed:    4.5s\n",
      "[Parallel(n_jobs=-1)]: Done  39 tasks      | elapsed:    4.5s\n",
      "[Parallel(n_jobs=-1)]: Done  40 tasks      | elapsed:    4.5s\n",
      "[Parallel(n_jobs=-1)]: Done  41 tasks      | elapsed:    4.5s\n",
      "[Parallel(n_jobs=-1)]: Done  42 tasks      | elapsed:    4.5s\n",
      "[Parallel(n_jobs=-1)]: Done  43 tasks      | elapsed:    4.5s\n",
      "[Parallel(n_jobs=-1)]: Done  44 tasks      | elapsed:    4.5s\n",
      "[Parallel(n_jobs=-1)]: Done  45 tasks      | elapsed:    4.5s\n",
      "[Parallel(n_jobs=-1)]: Done  46 tasks      | elapsed:    4.6s\n",
      "[Parallel(n_jobs=-1)]: Done  47 tasks      | elapsed:    4.6s\n",
      "[Parallel(n_jobs=-1)]: Done  48 tasks      | elapsed:    4.6s\n",
      "[Parallel(n_jobs=-1)]: Done  50 tasks      | elapsed:    4.6s\n",
      "[Parallel(n_jobs=-1)]: Batch computation too fast (0.0684s.) Setting batch_size=4.\n",
      "[Parallel(n_jobs=-1)]: Done  52 tasks      | elapsed:    4.6s\n",
      "[Parallel(n_jobs=-1)]: Done  54 tasks      | elapsed:    4.6s\n",
      "[Parallel(n_jobs=-1)]: Done  56 tasks      | elapsed:    4.6s\n",
      "[Parallel(n_jobs=-1)]: Done  58 tasks      | elapsed:    4.6s\n",
      "[Parallel(n_jobs=-1)]: Done  60 tasks      | elapsed:    4.6s\n",
      "[Parallel(n_jobs=-1)]: Done  62 tasks      | elapsed:    4.6s\n",
      "[Parallel(n_jobs=-1)]: Done  64 tasks      | elapsed:    4.6s\n",
      "[Parallel(n_jobs=-1)]: Done  66 tasks      | elapsed:    4.6s\n",
      "[Parallel(n_jobs=-1)]: Done  68 tasks      | elapsed:    4.7s\n",
      "[Parallel(n_jobs=-1)]: Done  70 tasks      | elapsed:    4.7s\n",
      "[Parallel(n_jobs=-1)]: Done  72 tasks      | elapsed:    4.7s\n",
      "[Parallel(n_jobs=-1)]: Done  74 tasks      | elapsed:    4.7s\n",
      "[Parallel(n_jobs=-1)]: Done  76 tasks      | elapsed:    4.7s\n",
      "[Parallel(n_jobs=-1)]: Done  78 tasks      | elapsed:    4.7s\n",
      "[Parallel(n_jobs=-1)]: Done  80 tasks      | elapsed:    4.7s\n",
      "[Parallel(n_jobs=-1)]: Done  84 tasks      | elapsed:    4.7s\n",
      "[Parallel(n_jobs=-1)]: Batch computation too fast (0.1373s.) Setting batch_size=8.\n",
      "[Parallel(n_jobs=-1)]: Done  88 tasks      | elapsed:    4.8s\n",
      "[Parallel(n_jobs=-1)]: Done  92 tasks      | elapsed:    4.8s\n",
      "[Parallel(n_jobs=-1)]: Done  96 tasks      | elapsed:    4.8s\n",
      "[Parallel(n_jobs=-1)]: Done 100 tasks      | elapsed:    4.8s\n",
      "[Parallel(n_jobs=-1)]: Done 104 tasks      | elapsed:    4.8s\n",
      "[Parallel(n_jobs=-1)]: Done 108 tasks      | elapsed:    4.8s\n",
      "[Parallel(n_jobs=-1)]: Done 112 tasks      | elapsed:    4.9s\n",
      "[Parallel(n_jobs=-1)]: Done 116 tasks      | elapsed:    4.9s\n",
      "[Parallel(n_jobs=-1)]: Done 120 tasks      | elapsed:    5.0s\n",
      "[Parallel(n_jobs=-1)]: Done 124 tasks      | elapsed:    5.0s\n",
      "[Parallel(n_jobs=-1)]: Done 128 tasks      | elapsed:    5.0s\n",
      "[Parallel(n_jobs=-1)]: Done 132 tasks      | elapsed:    5.0s\n",
      "[Parallel(n_jobs=-1)]: Done 136 tasks      | elapsed:    5.0s\n",
      "[Parallel(n_jobs=-1)]: Done 140 tasks      | elapsed:    5.0s\n",
      "[Parallel(n_jobs=-1)]: Done 144 tasks      | elapsed:    5.0s\n",
      "[Parallel(n_jobs=-1)]: Done 152 tasks      | elapsed:    5.1s\n",
      "[Parallel(n_jobs=-1)]: Done 160 tasks      | elapsed:    5.2s\n",
      "[Parallel(n_jobs=-1)]: Done 168 tasks      | elapsed:    5.2s\n",
      "[Parallel(n_jobs=-1)]: Done 176 tasks      | elapsed:    5.2s\n",
      "[Parallel(n_jobs=-1)]: Done 184 tasks      | elapsed:    5.2s\n",
      "[Parallel(n_jobs=-1)]: Done 192 tasks      | elapsed:    5.2s\n",
      "[Parallel(n_jobs=-1)]: Done 200 tasks      | elapsed:    5.2s\n",
      "[Parallel(n_jobs=-1)]: Done 208 tasks      | elapsed:    5.2s\n",
      "[Parallel(n_jobs=-1)]: Done 216 tasks      | elapsed:    5.4s\n",
      "[Parallel(n_jobs=-1)]: Done 224 tasks      | elapsed:    5.5s\n",
      "[Parallel(n_jobs=-1)]: Done 232 tasks      | elapsed:    5.5s\n",
      "[Parallel(n_jobs=-1)]: Done 240 tasks      | elapsed:    5.5s\n",
      "[Parallel(n_jobs=-1)]: Done 248 tasks      | elapsed:    5.5s\n",
      "[Parallel(n_jobs=-1)]: Done 256 tasks      | elapsed:    5.5s\n",
      "[Parallel(n_jobs=-1)]: Done 264 tasks      | elapsed:    5.5s\n",
      "[Parallel(n_jobs=-1)]: Done 272 tasks      | elapsed:    5.5s\n",
      "[Parallel(n_jobs=-1)]: Done 280 tasks      | elapsed:    5.7s\n",
      "[Parallel(n_jobs=-1)]: Done 288 tasks      | elapsed:    5.7s\n",
      "[Parallel(n_jobs=-1)]: Done 296 tasks      | elapsed:    5.7s\n",
      "[Parallel(n_jobs=-1)]: Done 297 tasks      | elapsed:    5.7s\n",
      "[Parallel(n_jobs=-1)]: Done 305 tasks      | elapsed:    5.7s\n",
      "[Parallel(n_jobs=-1)]: Done 306 tasks      | elapsed:    5.7s\n",
      "[Parallel(n_jobs=-1)]: Done 314 tasks      | elapsed:    5.7s\n",
      "[Parallel(n_jobs=-1)]: Done 315 tasks      | elapsed:    5.8s\n",
      "[Parallel(n_jobs=-1)]: Done 316 tasks      | elapsed:    5.8s\n",
      "[Parallel(n_jobs=-1)]: Done 324 tasks      | elapsed:    5.8s\n",
      "[Parallel(n_jobs=-1)]: Done 325 tasks      | elapsed:    5.8s\n",
      "[Parallel(n_jobs=-1)]: Done 333 tasks      | elapsed:    5.8s\n",
      "[Parallel(n_jobs=-1)]: Done 334 tasks      | elapsed:    5.8s\n",
      "[Parallel(n_jobs=-1)]: Done 335 tasks      | elapsed:    5.8s\n",
      "[Parallel(n_jobs=-1)]: Done 336 tasks      | elapsed:    5.8s\n",
      "[Parallel(n_jobs=-1)]: Done 337 tasks      | elapsed:    5.8s\n",
      "[Parallel(n_jobs=-1)]: Done 338 tasks      | elapsed:    5.8s\n",
      "[Parallel(n_jobs=-1)]: Done 339 tasks      | elapsed:    5.8s\n",
      "[Parallel(n_jobs=-1)]: Done 340 tasks      | elapsed:    5.8s\n",
      "[Parallel(n_jobs=-1)]: Done 341 tasks      | elapsed:    5.8s\n",
      "[Parallel(n_jobs=-1)]: Done 349 tasks      | elapsed:    5.8s\n",
      "[Parallel(n_jobs=-1)]: Done 350 tasks      | elapsed:    5.8s\n",
      "[Parallel(n_jobs=-1)]: Done 351 tasks      | elapsed:    5.8s\n",
      "[Parallel(n_jobs=-1)]: Done 352 tasks      | elapsed:    5.8s\n",
      "[Parallel(n_jobs=-1)]: Done 353 tasks      | elapsed:    5.8s\n",
      "[Parallel(n_jobs=-1)]: Done 354 tasks      | elapsed:    5.8s\n",
      "[Parallel(n_jobs=-1)]: Done 355 tasks      | elapsed:    5.8s\n",
      "[Parallel(n_jobs=-1)]: Done 356 tasks      | elapsed:    5.8s\n",
      "[Parallel(n_jobs=-1)]: Done 357 tasks      | elapsed:    5.8s\n",
      "[Parallel(n_jobs=-1)]: Done 358 tasks      | elapsed:    5.9s\n"
     ]
    },
    {
     "name": "stdout",
     "output_type": "stream",
     "text": [
      "[Parallel(n_jobs=-1)]: Done 359 tasks      | elapsed:    5.9s\n",
      "[Parallel(n_jobs=-1)]: Done 360 tasks      | elapsed:    5.9s\n",
      "[Parallel(n_jobs=-1)]: Done 361 tasks      | elapsed:    5.9s\n",
      "[Parallel(n_jobs=-1)]: Done 362 tasks      | elapsed:    5.9s\n",
      "[Parallel(n_jobs=-1)]: Done 363 tasks      | elapsed:    5.9s\n",
      "[Parallel(n_jobs=-1)]: Done 364 tasks      | elapsed:    5.9s\n",
      "[Parallel(n_jobs=-1)]: Done 365 tasks      | elapsed:    5.9s\n",
      "[Parallel(n_jobs=-1)]: Done 366 tasks      | elapsed:    5.9s\n",
      "[Parallel(n_jobs=-1)]: Done 367 tasks      | elapsed:    5.9s\n",
      "[Parallel(n_jobs=-1)]: Done 368 tasks      | elapsed:    5.9s\n",
      "[Parallel(n_jobs=-1)]: Done 369 tasks      | elapsed:    5.9s\n",
      "[Parallel(n_jobs=-1)]: Done 371 out of 384 | elapsed:    5.9s remaining:    0.1s\n",
      "[Parallel(n_jobs=-1)]: Done 373 out of 384 | elapsed:    5.9s remaining:    0.1s\n",
      "[Parallel(n_jobs=-1)]: Done 375 out of 384 | elapsed:    5.9s remaining:    0.0s\n",
      "[Parallel(n_jobs=-1)]: Done 377 out of 384 | elapsed:    5.9s remaining:    0.0s\n",
      "[Parallel(n_jobs=-1)]: Done 379 out of 384 | elapsed:    5.9s remaining:    0.0s\n",
      "[Parallel(n_jobs=-1)]: Done 381 out of 384 | elapsed:    5.9s remaining:    0.0s\n",
      "[Parallel(n_jobs=-1)]: Done 384 out of 384 | elapsed:    5.9s finished\n"
     ]
    },
    {
     "data": {
      "text/plain": [
       "GridSearchCV(cv=3, estimator=DecisionTreeClassifier(), n_jobs=-1,\n",
       "             param_grid={'criterion': ['gini', 'entropy'],\n",
       "                         'max_depth': [1, 6, 8, 11],\n",
       "                         'min_samples_leaf': [1, 3, 7, 9],\n",
       "                         'min_samples_split': [1, 9, 11, 12]},\n",
       "             verbose=200)"
      ]
     },
     "execution_count": 35,
     "metadata": {},
     "output_type": "execute_result"
    }
   ],
   "source": [
    "#cv=3 i.e 3 cross folds, verbose=200 i.e the more the verbose the more info we get\n",
    "grid=GridSearchCV(DecisionTreeClassifier(),param_grid,n_jobs=-1,cv=3,verbose=200)\n",
    "grid.fit(X_train,y_train)"
   ]
  },
  {
   "cell_type": "code",
   "execution_count": 36,
   "metadata": {},
   "outputs": [
    {
     "data": {
      "text/plain": [
       "{'criterion': 'entropy',\n",
       " 'max_depth': 6,\n",
       " 'min_samples_leaf': 7,\n",
       " 'min_samples_split': 11}"
      ]
     },
     "execution_count": 36,
     "metadata": {},
     "output_type": "execute_result"
    }
   ],
   "source": [
    "grid.best_params_"
   ]
  },
  {
   "cell_type": "code",
   "execution_count": 37,
   "metadata": {},
   "outputs": [
    {
     "data": {
      "text/plain": [
       "0.7811213991769548"
      ]
     },
     "execution_count": 37,
     "metadata": {},
     "output_type": "execute_result"
    }
   ],
   "source": [
    "grid.best_score_"
   ]
  },
  {
   "cell_type": "code",
   "execution_count": 38,
   "metadata": {},
   "outputs": [
    {
     "data": {
      "text/plain": [
       "DecisionTreeClassifier(max_depth=1, min_samples_split=9)"
      ]
     },
     "execution_count": 38,
     "metadata": {},
     "output_type": "execute_result"
    }
   ],
   "source": [
    "tuned_model=DecisionTreeClassifier(criterion= 'gini',\n",
    " max_depth=1,\n",
    " min_samples_leaf= 1,\n",
    " min_samples_split= 9)\n",
    "tuned_model.fit(X_train,y_train)"
   ]
  },
  {
   "cell_type": "code",
   "execution_count": 39,
   "metadata": {},
   "outputs": [],
   "source": [
    "tuned_model_pred=tuned_model.predict(X_test)"
   ]
  },
  {
   "cell_type": "code",
   "execution_count": 41,
   "metadata": {},
   "outputs": [
    {
     "name": "stdout",
     "output_type": "stream",
     "text": [
      "              precision    recall  f1-score   support\n",
      "\n",
      "           0       0.77      0.74      0.75        27\n",
      "           1       0.80      0.82      0.81        34\n",
      "\n",
      "    accuracy                           0.79        61\n",
      "   macro avg       0.78      0.78      0.78        61\n",
      "weighted avg       0.79      0.79      0.79        61\n",
      "\n"
     ]
    }
   ],
   "source": [
    "print(classification_report(y_test,tuned_model_pred))"
   ]
  },
  {
   "cell_type": "markdown",
   "metadata": {},
   "source": [
    "#### best accuracy is 81.97%"
   ]
  },
  {
   "cell_type": "code",
   "execution_count": null,
   "metadata": {},
   "outputs": [],
   "source": []
  }
 ],
 "metadata": {
  "kernelspec": {
   "display_name": "Python 3",
   "language": "python",
   "name": "python3"
  },
  "language_info": {
   "codemirror_mode": {
    "name": "ipython",
    "version": 3
   },
   "file_extension": ".py",
   "mimetype": "text/x-python",
   "name": "python",
   "nbconvert_exporter": "python",
   "pygments_lexer": "ipython3",
   "version": "3.8.5"
  }
 },
 "nbformat": 4,
 "nbformat_minor": 4
}
